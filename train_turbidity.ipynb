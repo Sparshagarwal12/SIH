{
 "cells": [
  {
   "cell_type": "code",
   "execution_count": 1,
   "metadata": {},
   "outputs": [],
   "source": [
    "from tensorflow.keras.preprocessing.image import ImageDataGenerator\n",
    "from tensorflow.keras.applications import MobileNetV2\n",
    "from tensorflow.keras.layers import *\n",
    "from tensorflow.keras.models import *\n",
    "from tensorflow.keras.optimizers import Adam\n",
    "from tensorflow.keras.callbacks import ModelCheckpoint, EarlyStopping\n",
    "from tensorflow.keras.applications.mobilenet_v2 import preprocess_input\n",
    "from tensorflow.keras.preprocessing.image import img_to_array\n",
    "from tensorflow.keras.preprocessing.image import load_img\n",
    "from tensorflow.keras.utils import to_categorical\n",
    "from sklearn.preprocessing import LabelBinarizer\n",
    "from sklearn.model_selection import train_test_split\n",
    "from sklearn.metrics import classification_report\n",
    "from imutils import paths\n",
    "import matplotlib.pyplot as plt\n",
    "import numpy as np\n",
    "import argparse\n",
    "import os"
   ]
  },
  {
   "cell_type": "code",
   "execution_count": 3,
   "metadata": {},
   "outputs": [],
   "source": [
    "dataset = 'data'\n",
    "train = 'data\\\\Train'\n",
    "val = 'data\\\\Val'"
   ]
  },
  {
   "cell_type": "code",
   "execution_count": 4,
   "metadata": {},
   "outputs": [],
   "source": [
    "# initialize the initial learning rate, number of epochs to train for,\n",
    "# and batch size\n",
    "INIT_LR = 1e-4\n",
    "EPOCHS = 20\n",
    "BS = 32"
   ]
  },
  {
   "cell_type": "code",
   "execution_count": 11,
   "metadata": {},
   "outputs": [
    {
     "name": "stdout",
     "output_type": "stream",
     "text": [
      "Found 775 images belonging to 3 classes.\n",
      "Found 234 images belonging to 3 classes.\n"
     ]
    }
   ],
   "source": [
    "train_datagen = ImageDataGenerator(\n",
    "    rescale = 1./255,\n",
    "    rotation_range=40,\n",
    "    width_shift_range=0.2,\n",
    "    height_shift_range=0.2,\n",
    "    shear_range=0.2,\n",
    "    zoom_range=0.2,\n",
    "    horizontal_flip=True,\n",
    "    fill_mode='nearest')\n",
    "\n",
    "validation_datagen = ImageDataGenerator(rescale = 1./255)\n",
    "\n",
    "train_generator = train_datagen.flow_from_directory(\n",
    "    train,\n",
    "    target_size=(150,150),\n",
    "    class_mode='categorical')\n",
    "\n",
    "validation_generator = validation_datagen.flow_from_directory(\n",
    "    val,\n",
    "    target_size=(150,150),\n",
    "    class_mode='categorical')"
   ]
  },
  {
   "cell_type": "code",
   "execution_count": 12,
   "metadata": {},
   "outputs": [],
   "source": [
    "model = Sequential()\n",
    "model.add(Conv2D(32,kernel_size=(3,3),activation='relu',input_shape=(150,150,3)))\n",
    "model.add(Conv2D(128,(3,3),activation='relu'))\n",
    "model.add(MaxPooling2D(pool_size=(2,2)))\n",
    "model.add(Dropout(0.25))\n",
    "\n",
    "model.add(Conv2D(64,(3,3),activation='relu'))\n",
    "model.add(MaxPooling2D(pool_size=(2,2)))\n",
    "model.add(Dropout(0.25))\n",
    "\n",
    "model.add(Conv2D(128,(3,3),activation='relu'))\n",
    "model.add(MaxPooling2D(pool_size=(2,2)))\n",
    "model.add(Dropout(0.25))\n",
    "\n",
    "model.add(Flatten())\n",
    "model.add(Dense(64,activation='relu'))\n",
    "model.add(Dropout(0.5))\n",
    "model.add(Dense(3,activation='softmax'))\n",
    "\n",
    "opt = Adam(lr=INIT_LR, decay=INIT_LR / EPOCHS)\n",
    "\n",
    "model.compile(loss=\"categorical_crossentropy\", optimizer=opt, metrics=['accuracy'])"
   ]
  },
  {
   "cell_type": "code",
   "execution_count": 14,
   "metadata": {},
   "outputs": [
    {
     "name": "stdout",
     "output_type": "stream",
     "text": [
      "[INFO] compiling model...\n"
     ]
    }
   ],
   "source": [
    "# compile our model\n",
    "print(\"[INFO] compiling model...\")\n",
    "opt = Adam(lr=INIT_LR, decay=INIT_LR / EPOCHS)\n",
    "model.compile(loss=\"binary_crossentropy\", optimizer=opt, metrics=[\"accuracy\"])\n"
   ]
  },
  {
   "cell_type": "code",
   "execution_count": 15,
   "metadata": {},
   "outputs": [
    {
     "name": "stderr",
     "output_type": "stream",
     "text": [
      "WARNING: Logging before flag parsing goes to stderr.\n",
      "W0718 12:55:20.450480 24236 callbacks.py:886] `period` argument is deprecated. Please use `save_freq` to specify the frequency in number of samples seen.\n"
     ]
    }
   ],
   "source": [
    "checkpoint = ModelCheckpoint(\n",
    "    \"model.h5\", \n",
    "    monitor='val_accuracy', \n",
    "    verbose=1, \n",
    "    save_best_only=True, \n",
    "    save_weights_only=False, \n",
    "    mode='auto', \n",
    "    period=1)\n",
    "\n",
    "early = EarlyStopping(\n",
    "    monitor='val_accuracy', \n",
    "    min_delta=0, \n",
    "    patience=10, \n",
    "    verbose=1, \n",
    "    mode='auto')"
   ]
  },
  {
   "cell_type": "code",
   "execution_count": 16,
   "metadata": {
    "collapsed": true
   },
   "outputs": [
    {
     "name": "stderr",
     "output_type": "stream",
     "text": [
      "W0718 12:55:20.584470 24236 deprecation.py:323] From <ipython-input-16-2f54227cf1c0>:7: Model.fit_generator (from tensorflow.python.keras.engine.training) is deprecated and will be removed in a future version.\n",
      "Instructions for updating:\n",
      "Please use Model.fit, which supports generators.\n",
      "W0718 12:55:21.565956 24236 data_adapter.py:1091] sample_weight modes were coerced from\n",
      "  ...\n",
      "    to  \n",
      "  ['...']\n",
      "W0718 12:55:21.794070 24236 data_adapter.py:1091] sample_weight modes were coerced from\n",
      "  ...\n",
      "    to  \n",
      "  ['...']\n"
     ]
    },
    {
     "name": "stdout",
     "output_type": "stream",
     "text": [
      "Train for 24 steps, validate for 7 steps\n",
      "Epoch 1/20\n",
      "23/24 [===========================>..] - ETA: 5s - loss: 0.5389 - accuracy: 0.7506 \n",
      "Epoch 00001: val_accuracy improved from -inf to 0.85565, saving model to model.h5\n",
      "24/24 [==============================] - 144s 6s/step - loss: 0.5372 - accuracy: 0.7510 - val_loss: 0.5077 - val_accuracy: 0.8557\n",
      "Epoch 2/20\n",
      "23/24 [===========================>..] - ETA: 5s - loss: 0.3194 - accuracy: 0.8622 \n",
      "Epoch 00002: val_accuracy did not improve from 0.85565\n",
      "24/24 [==============================] - 141s 6s/step - loss: 0.3175 - accuracy: 0.8632 - val_loss: 0.3157 - val_accuracy: 0.8527\n",
      "Epoch 3/20\n",
      "23/24 [===========================>..] - ETA: 5s - loss: 0.2133 - accuracy: 0.8978 \n",
      "Epoch 00003: val_accuracy improved from 0.85565 to 0.88542, saving model to model.h5\n",
      "24/24 [==============================] - 156s 7s/step - loss: 0.2210 - accuracy: 0.8964 - val_loss: 0.2655 - val_accuracy: 0.8854\n",
      "Epoch 4/20\n",
      "23/24 [===========================>..] - ETA: 5s - loss: 0.1877 - accuracy: 0.9250 \n",
      "Epoch 00004: val_accuracy did not improve from 0.88542\n",
      "24/24 [==============================] - 153s 6s/step - loss: 0.1860 - accuracy: 0.9246 - val_loss: 0.2705 - val_accuracy: 0.8780\n",
      "Epoch 5/20\n",
      "23/24 [===========================>..] - ETA: 5s - loss: 0.1592 - accuracy: 0.9391 \n",
      "Epoch 00005: val_accuracy improved from 0.88542 to 0.92262, saving model to model.h5\n",
      "24/24 [==============================] - 151s 6s/step - loss: 0.1564 - accuracy: 0.9408 - val_loss: 0.2589 - val_accuracy: 0.9226\n",
      "Epoch 6/20\n",
      "23/24 [===========================>..] - ETA: 5s - loss: 0.1576 - accuracy: 0.9362 \n",
      "Epoch 00006: val_accuracy improved from 0.92262 to 0.95089, saving model to model.h5\n",
      "24/24 [==============================] - 135s 6s/step - loss: 0.1560 - accuracy: 0.9363 - val_loss: 0.1904 - val_accuracy: 0.9509\n",
      "Epoch 7/20\n",
      "23/24 [===========================>..] - ETA: 5s - loss: 0.1398 - accuracy: 0.9437 \n",
      "Epoch 00007: val_accuracy did not improve from 0.95089\n",
      "24/24 [==============================] - 136s 6s/step - loss: 0.1400 - accuracy: 0.9426 - val_loss: 0.2114 - val_accuracy: 0.9479\n",
      "Epoch 8/20\n",
      "23/24 [===========================>..] - ETA: 4s - loss: 0.0996 - accuracy: 0.9644\n",
      "Epoch 00008: val_accuracy did not improve from 0.95089\n",
      "24/24 [==============================] - 129s 5s/step - loss: 0.0986 - accuracy: 0.9641 - val_loss: 0.1805 - val_accuracy: 0.9494\n",
      "Epoch 9/20\n",
      "23/24 [===========================>..] - ETA: 4s - loss: 0.0739 - accuracy: 0.9761\n",
      "Epoch 00009: val_accuracy did not improve from 0.95089\n",
      "24/24 [==============================] - 130s 5s/step - loss: 0.0744 - accuracy: 0.9762 - val_loss: 0.2361 - val_accuracy: 0.9241\n",
      "Epoch 10/20\n",
      "23/24 [===========================>..] - ETA: 4s - loss: 0.0744 - accuracy: 0.9714\n",
      "Epoch 00010: val_accuracy did not improve from 0.95089\n",
      "24/24 [==============================] - 132s 5s/step - loss: 0.0723 - accuracy: 0.9726 - val_loss: 0.3193 - val_accuracy: 0.8601\n",
      "Epoch 11/20\n",
      "23/24 [===========================>..] - ETA: 5s - loss: 0.0631 - accuracy: 0.9775 \n",
      "Epoch 00011: val_accuracy improved from 0.95089 to 0.95833, saving model to model.h5\n",
      "24/24 [==============================] - 141s 6s/step - loss: 0.0615 - accuracy: 0.9785 - val_loss: 0.1581 - val_accuracy: 0.9583\n",
      "Epoch 12/20\n",
      "23/24 [===========================>..] - ETA: 5s - loss: 0.0687 - accuracy: 0.9733 \n",
      "Epoch 00012: val_accuracy did not improve from 0.95833\n",
      "24/24 [==============================] - 138s 6s/step - loss: 0.0667 - accuracy: 0.9744 - val_loss: 0.5642 - val_accuracy: 0.6890\n",
      "Epoch 13/20\n",
      "23/24 [===========================>..] - ETA: 5s - loss: 0.0599 - accuracy: 0.9831 \n",
      "Epoch 00013: val_accuracy improved from 0.95833 to 0.96131, saving model to model.h5\n",
      "24/24 [==============================] - 137s 6s/step - loss: 0.0587 - accuracy: 0.9830 - val_loss: 0.1477 - val_accuracy: 0.9613\n",
      "Epoch 14/20\n",
      "23/24 [===========================>..] - ETA: 5s - loss: 0.0333 - accuracy: 0.9878 \n",
      "Epoch 00014: val_accuracy did not improve from 0.96131\n",
      "24/24 [==============================] - 142s 6s/step - loss: 0.0366 - accuracy: 0.9856 - val_loss: 0.1360 - val_accuracy: 0.9464\n",
      "Epoch 15/20\n",
      "23/24 [===========================>..] - ETA: 5s - loss: 0.0333 - accuracy: 0.9878 \n",
      "Epoch 00015: val_accuracy did not improve from 0.96131\n",
      "24/24 [==============================] - 142s 6s/step - loss: 0.0324 - accuracy: 0.9883 - val_loss: 0.3788 - val_accuracy: 0.8318\n",
      "Epoch 16/20\n",
      "23/24 [===========================>..] - ETA: 5s - loss: 0.0395 - accuracy: 0.9869 \n",
      "Epoch 00016: val_accuracy did not improve from 0.96131\n",
      "24/24 [==============================] - 139s 6s/step - loss: 0.0388 - accuracy: 0.9870 - val_loss: 0.1208 - val_accuracy: 0.9613\n",
      "Epoch 17/20\n",
      "23/24 [===========================>..] - ETA: 5s - loss: 0.0237 - accuracy: 0.9953 \n",
      "Epoch 00017: val_accuracy did not improve from 0.96131\n",
      "24/24 [==============================] - 140s 6s/step - loss: 0.0250 - accuracy: 0.9946 - val_loss: 0.1773 - val_accuracy: 0.9330\n",
      "Epoch 18/20\n",
      "23/24 [===========================>..] - ETA: 5s - loss: 0.0291 - accuracy: 0.9897 \n",
      "Epoch 00018: val_accuracy did not improve from 0.96131\n",
      "24/24 [==============================] - 135s 6s/step - loss: 0.0286 - accuracy: 0.9901 - val_loss: 0.1156 - val_accuracy: 0.9613\n",
      "Epoch 19/20\n",
      "23/24 [===========================>..] - ETA: 5s - loss: 0.0515 - accuracy: 0.9808 \n",
      "Epoch 00019: val_accuracy did not improve from 0.96131\n",
      "24/24 [==============================] - 137s 6s/step - loss: 0.0521 - accuracy: 0.9789 - val_loss: 0.2282 - val_accuracy: 0.9062\n",
      "Epoch 20/20\n",
      "23/24 [===========================>..] - ETA: 5s - loss: 0.0364 - accuracy: 0.9869 \n",
      "Epoch 00020: val_accuracy improved from 0.96131 to 0.99405, saving model to model.h5\n",
      "24/24 [==============================] - 138s 6s/step - loss: 0.0354 - accuracy: 0.9874 - val_loss: 0.0450 - val_accuracy: 0.9940\n"
     ]
    }
   ],
   "source": [
    "H = model.fit_generator(\n",
    "    train_generator,\n",
    "    steps_per_epoch=len(train_generator.classes) // BS,\n",
    "    validation_data=validation_generator,\n",
    "    validation_steps=len(validation_generator.classes) // BS,\n",
    "    epochs=EPOCHS,\n",
    "    callbacks=[checkpoint,early])"
   ]
  },
  {
   "cell_type": "code",
   "execution_count": 17,
   "metadata": {
    "collapsed": true
   },
   "outputs": [
    {
     "name": "stdout",
     "output_type": "stream",
     "text": [
      "Model: \"sequential\"\n",
      "_________________________________________________________________\n",
      "Layer (type)                 Output Shape              Param #   \n",
      "=================================================================\n",
      "conv2d (Conv2D)              (None, 148, 148, 32)      896       \n",
      "_________________________________________________________________\n",
      "conv2d_1 (Conv2D)            (None, 146, 146, 128)     36992     \n",
      "_________________________________________________________________\n",
      "max_pooling2d (MaxPooling2D) (None, 73, 73, 128)       0         \n",
      "_________________________________________________________________\n",
      "dropout (Dropout)            (None, 73, 73, 128)       0         \n",
      "_________________________________________________________________\n",
      "conv2d_2 (Conv2D)            (None, 71, 71, 64)        73792     \n",
      "_________________________________________________________________\n",
      "max_pooling2d_1 (MaxPooling2 (None, 35, 35, 64)        0         \n",
      "_________________________________________________________________\n",
      "dropout_1 (Dropout)          (None, 35, 35, 64)        0         \n",
      "_________________________________________________________________\n",
      "conv2d_3 (Conv2D)            (None, 33, 33, 128)       73856     \n",
      "_________________________________________________________________\n",
      "max_pooling2d_2 (MaxPooling2 (None, 16, 16, 128)       0         \n",
      "_________________________________________________________________\n",
      "dropout_2 (Dropout)          (None, 16, 16, 128)       0         \n",
      "_________________________________________________________________\n",
      "flatten (Flatten)            (None, 32768)             0         \n",
      "_________________________________________________________________\n",
      "dense (Dense)                (None, 64)                2097216   \n",
      "_________________________________________________________________\n",
      "dropout_3 (Dropout)          (None, 64)                0         \n",
      "_________________________________________________________________\n",
      "dense_1 (Dense)              (None, 3)                 195       \n",
      "=================================================================\n",
      "Total params: 2,282,947\n",
      "Trainable params: 2,282,947\n",
      "Non-trainable params: 0\n",
      "_________________________________________________________________\n"
     ]
    }
   ],
   "source": [
    "model.summary()"
   ]
  },
  {
   "cell_type": "code",
   "execution_count": 18,
   "metadata": {},
   "outputs": [
    {
     "name": "stdout",
     "output_type": "stream",
     "text": [
      "Saving turbidity detector model...\n",
      "MODEL SAVED\n"
     ]
    }
   ],
   "source": [
    "print(\"Saving turbidity detector model...\")\n",
    "model.save(\"model.h5\")\n",
    "print(\"MODEL SAVED\")"
   ]
  },
  {
   "cell_type": "code",
   "execution_count": 20,
   "metadata": {},
   "outputs": [
    {
     "data": {
      "text/plain": [
       "{'loss': [0.535128561436408,\n",
       "  0.320745042002538,\n",
       "  0.22207712292831647,\n",
       "  0.18435799311420317,\n",
       "  0.15586547701949227,\n",
       "  0.14850058810707698,\n",
       "  0.14014001415282848,\n",
       "  0.09964893084435572,\n",
       "  0.07166007802913199,\n",
       "  0.0732285149024441,\n",
       "  0.05948850646875749,\n",
       "  0.06794403956182712,\n",
       "  0.05911351909326994,\n",
       "  0.03706095866297408,\n",
       "  0.032391877534488835,\n",
       "  0.039965137205378705,\n",
       "  0.025485161434944274,\n",
       "  0.029464612340396032,\n",
       "  0.05308325891539675,\n",
       "  0.03539352813580384],\n",
       " 'accuracy': [0.75100935,\n",
       "  0.8631673,\n",
       "  0.8963662,\n",
       "  0.92462987,\n",
       "  0.9407805,\n",
       "  0.93629426,\n",
       "  0.9425751,\n",
       "  0.96410954,\n",
       "  0.9762225,\n",
       "  0.9726334,\n",
       "  0.9784657,\n",
       "  0.97442806,\n",
       "  0.98295206,\n",
       "  0.98564374,\n",
       "  0.98828125,\n",
       "  0.9869897,\n",
       "  0.9946163,\n",
       "  0.9901301,\n",
       "  0.97891426,\n",
       "  0.9874131],\n",
       " 'val_loss': [0.50766407591956,\n",
       "  0.31572703804288593,\n",
       "  0.2655262053012848,\n",
       "  0.2705126575061253,\n",
       "  0.25887627048151834,\n",
       "  0.19042333960533142,\n",
       "  0.21144426507609232,\n",
       "  0.1805382945707866,\n",
       "  0.23613299216542924,\n",
       "  0.3193222539765494,\n",
       "  0.15813225827046803,\n",
       "  0.5642455390521458,\n",
       "  0.14769716454403742,\n",
       "  0.13596561231783458,\n",
       "  0.3787629391465868,\n",
       "  0.12079889114413943,\n",
       "  0.17733157851866313,\n",
       "  0.11556870809623174,\n",
       "  0.22822885853903635,\n",
       "  0.0450146318014179],\n",
       " 'val_accuracy': [0.8556548,\n",
       "  0.8526785,\n",
       "  0.8854166,\n",
       "  0.87797624,\n",
       "  0.92261904,\n",
       "  0.95089287,\n",
       "  0.9479167,\n",
       "  0.9494048,\n",
       "  0.92410713,\n",
       "  0.86011904,\n",
       "  0.9583333,\n",
       "  0.6889881,\n",
       "  0.9613095,\n",
       "  0.9464286,\n",
       "  0.8318452,\n",
       "  0.9613095,\n",
       "  0.93303573,\n",
       "  0.9613095,\n",
       "  0.90625,\n",
       "  0.9940476]}"
      ]
     },
     "execution_count": 20,
     "metadata": {},
     "output_type": "execute_result"
    }
   ],
   "source": [
    "H.history"
   ]
  },
  {
   "cell_type": "code",
   "execution_count": 24,
   "metadata": {},
   "outputs": [
    {
     "data": {
      "image/png": "[encoded data removed]",
      "text/plain": [
       "<Figure size 432x288 with 1 Axes>"
      ]
     },
     "metadata": {},
     "output_type": "display_data"
    }
   ],
   "source": [
    "N = EPOCHS\n",
    "plt.style.use(\"ggplot\")\n",
    "plt.figure()\n",
    "plt.plot(np.arange(0, N), H.history[\"loss\"], label=\"train_loss\")\n",
    "plt.plot(np.arange(0, N), H.history[\"val_loss\"], label=\"val_loss\")\n",
    "plt.plot(np.arange(0, N), H.history[\"accuracy\"], label=\"train_acc\")\n",
    "plt.plot(np.arange(0, N), H.history[\"val_accuracy\"], label=\"val_acc\")\n",
    "plt.title(\"Training Loss and Accuracy on turbidity Dataset\")\n",
    "plt.xlabel(\"Epoch #\")\n",
    "plt.ylabel(\"Loss/Accuracy\")\n",
    "plt.legend(loc=\"lower left\")\n",
    "plt.savefig(\"plot.png\")"
   ]
  }
 ],
 "metadata": {
  "kernelspec": {
   "display_name": "Python 3",
   "language": "python",
   "name": "python3"
  },
  "language_info": {
   "codemirror_mode": {
    "name": "ipython",
    "version": 3
   },
   "file_extension": ".py",
   "mimetype": "text/x-python",
   "name": "python",
   "nbconvert_exporter": "python",
   "pygments_lexer": "ipython3",
   "version": "3.7.0"
  }
 },
 "nbformat": 4,
 "nbformat_minor": 2
}
