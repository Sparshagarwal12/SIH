{
 "cells": [
  {
   "cell_type": "code",
   "execution_count": 1,
   "metadata": {},
   "outputs": [],
   "source": [
    "from tensorflow.keras.applications.mobilenet_v2 import preprocess_input\n",
    "from tensorflow.keras.preprocessing.image import img_to_array\n",
    "from tensorflow.keras.models import load_model\n",
    "import numpy as np\n",
    "import cv2\n",
    "import os"
   ]
  },
  {
   "cell_type": "code",
   "execution_count": 2,
   "metadata": {},
   "outputs": [
    {
     "name": "stdout",
     "output_type": "stream",
     "text": [
      "loading turbidity detector model...\n",
      "MODEL LOADED\n"
     ]
    }
   ],
   "source": [
    "print(\"loading turbidity detector model...\")\n",
    "model = load_model('model.h5')\n",
    "print(\"MODEL LOADED\")"
   ]
  },
  {
   "cell_type": "code",
   "execution_count": 3,
   "metadata": {},
   "outputs": [],
   "source": [
    "imgpath = '1.jpeg'\n",
    "image = cv2.imread(imgpath)\n",
    "y,x,s = image.shape\n",
    "# print(image.shape)\n",
    "cx = x//2\n",
    "cy = y//2\n",
    "# print(cx,cy)\n",
    "image_cropped = image[cy-150:cy+150, cx-150:cx+150]\n",
    "orig = image.copy()\n",
    "(h, w) = image.shape[:2]"
   ]
  },
  {
   "cell_type": "code",
   "execution_count": 4,
   "metadata": {},
   "outputs": [],
   "source": [
    "img = cv2.cvtColor(image_cropped, cv2.COLOR_BGR2RGB)\n",
    "img = cv2.resize(img, (150, 150))\n",
    "img = img_to_array(img)\n",
    "img = preprocess_input(img)\n",
    "img = np.expand_dims(img, axis=0)\n",
    "\n",
    "(h,l,m) = model.predict(img)[0]\n",
    "# print(h,l,m)\n",
    "val = max(h,l,m)\n",
    "if val == h:\n",
    "    label = \"HIGH\" \n",
    "elif val == l:\n",
    "    label = \"LOW\"\n",
    "else:\n",
    "    label = \"MEDIUM\"\n",
    "color = (0, 0, 255) \n",
    "\n",
    "# include the probability in the label\n",
    "label = \"{}: {:.2f}%\".format(label, max(h,l,m) * 100)\n",
    "\n",
    "# display the label and bounding box rectangle on the output frame\n",
    "cv2.putText(image_cropped, label, (10,20),cv2.FONT_HERSHEY_SIMPLEX, 0.5, color, 2)\n",
    "# cv2.rectangle(image, (startX, startY), (endX, endY), color, 2)\n",
    "\n",
    "# show the output image\n",
    "cv2.imshow(\"Output\", image_cropped)\n",
    "cv2.imwrite(\"out.jpg\",image_cropped)\n",
    "cv2.waitKey(0)\n",
    "cv2.destroyAllWindows()"
   ]
  },
  {
   "cell_type": "code",
   "execution_count": null,
   "metadata": {},
   "outputs": [],
   "source": []
  }
 ],
 "metadata": {
  "kernelspec": {
   "display_name": "Python 3",
   "language": "python",
   "name": "python3"
  },
  "language_info": {
   "codemirror_mode": {
    "name": "ipython",
    "version": 3
   },
   "file_extension": ".py",
   "mimetype": "text/x-python",
   "name": "python",
   "nbconvert_exporter": "python",
   "pygments_lexer": "ipython3",
   "version": "3.7.0"
  }
 },
 "nbformat": 4,
 "nbformat_minor": 2
}
